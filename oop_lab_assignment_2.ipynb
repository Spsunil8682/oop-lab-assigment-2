{
  "nbformat": 4,
  "nbformat_minor": 0,
  "metadata": {
    "colab": {
      "name": "oop lab -assignment 2",
      "provenance": [],
      "authorship_tag": "ABX9TyPvd8RurZy1Z1k/YZhk4PoZ",
      "include_colab_link": true
    },
    "kernelspec": {
      "name": "python3",
      "display_name": "Python 3"
    },
    "language_info": {
      "name": "python"
    }
  },
  "cells": [
    {
      "cell_type": "markdown",
      "metadata": {
        "id": "view-in-github",
        "colab_type": "text"
      },
      "source": [
        "<a href=\"https://colab.research.google.com/github/Spsunil8682/oop-lab-assigment-2/blob/main/oop_lab_assignment_2.ipynb\" target=\"_parent\"><img src=\"https://colab.research.google.com/assets/colab-badge.svg\" alt=\"Open In Colab\"/></a>"
      ]
    },
    {
      "cell_type": "code",
      "metadata": {
        "colab": {
          "base_uri": "https://localhost:8080/"
        },
        "id": "oNxBF0v-pYJN",
        "outputId": "c355a9ce-7c08-4170-e4d8-772e114341e9"
      },
      "source": [
        "##Problem 1\n",
        "\n",
        "import numpy as np\n",
        "\n",
        "class Circle:\n",
        "  def __init__(self, Radius):\n",
        "    self.Radius = Radius\n",
        "  def Area(self):\n",
        "    return (np.pi * (self.Radius ** 2))\n",
        "  def Perimeter(self):\n",
        "    return (2 * np.pi * self.Radius)\n",
        "\n",
        "R = float(input(\"Radius : \"))\n",
        "c = Circle(R)\n",
        "print(\"Area of Circle of Radius {0}  : {1}\".format(R, c.Area()))\n",
        "print(\"Area of Circle of Radius {0}  : {1}\".format(R, c.Perimeter()))"
      ],
      "execution_count": 3,
      "outputs": [
        {
          "output_type": "stream",
          "name": "stdout",
          "text": [
            "Radius : 12\n",
            "Area of Circle of Radius 12.0  : 452.3893421169302\n",
            "Area of Circle of Radius 12.0  : 75.39822368615503\n"
          ]
        }
      ]
    },
    {
      "cell_type": "code",
      "metadata": {
        "colab": {
          "base_uri": "https://localhost:8080/"
        },
        "id": "XizPx5YrppwR",
        "outputId": "aedd912a-d8c6-4cd9-f2b0-6035e17c2b7b"
      },
      "source": [
        "##Problem 2\n",
        "\n",
        "class Faculty:\n",
        "\n",
        "  def __init__(self):\n",
        "    self.Name = str(input(\"Employee Name : \"))\n",
        "    self.EmpID = str(input(\"Employee ID : \"))\n",
        "    self.Branch = str(input(\"Branch : \"))\n",
        "    self.Salary = float(input(\"Salary : \"))\n",
        "\n",
        "  def show(self):\n",
        "    print(\"\\nEmployee Details :\")\n",
        "    print(\"Employee Name : \", self.Name)\n",
        "    print(\"Employee ID : \", self.EmpID)\n",
        "    print(\"Branch : \", self.Branch)\n",
        "    print(\"Salary : \", self.Salary)\n",
        "    print(\"\\n\")\n",
        "    return\n",
        "\n",
        "N = int(input(\"Number of Employees : \"))\n",
        "for i in range(N):\n",
        "  F = Faculty()\n",
        "  F.show()"
      ],
      "execution_count": 5,
      "outputs": [
        {
          "output_type": "stream",
          "name": "stdout",
          "text": [
            "Number of Employees : 2\n",
            "Employee Name : sunil \n",
            "Employee ID : spsunil \n",
            "Branch : cse \n",
            "Salary : 200000\n",
            "\n",
            "Employee Details :\n",
            "Employee Name :  sunil \n",
            "Employee ID :  spsunil \n",
            "Branch :  cse \n",
            "Salary :  200000.0\n",
            "\n",
            "\n",
            "Employee Name : rohiy \n",
            "Employee ID : rohiy4997\n",
            "Branch : ece\n",
            "Salary : 200000000\n",
            "\n",
            "Employee Details :\n",
            "Employee Name :  rohiy \n",
            "Employee ID :  rohiy4997\n",
            "Branch :  ece\n",
            "Salary :  200000000.0\n",
            "\n",
            "\n"
          ]
        }
      ]
    },
    {
      "cell_type": "code",
      "metadata": {
        "colab": {
          "base_uri": "https://localhost:8080/"
        },
        "id": "-QM3y58fqVXz",
        "outputId": "f40de631-1116-4a5b-8543-638f0a88552a"
      },
      "source": [
        "#prbloem 3\n",
        "class Account:\n",
        "  \n",
        "  def __init__(self):\n",
        "    self. AccNo = str(input(\"Account Number : \"))\n",
        "    self.AccHolder = str(input(\"Name : \"))\n",
        "    self.Amnt = 50000.00\n",
        "\n",
        "  def AccountDetails(self):\n",
        "    print(\"\\nAccount Details :\")\n",
        "    print(\"Account Number : \", self.AccNo)\n",
        "    print(\"Account Holder Name : \", self.AccHolder)\n",
        "    print(\"Account Balance : \", self.Amnt)\n",
        "  \n",
        "  def Deposit(self):\n",
        "    Amount = float(input(\"\\nEnter Amount for Deposit : \"))\n",
        "    self.Amnt += Amount\n",
        "    print(\"Account Balance : \", self.Amnt)\n",
        "  \n",
        "  def Withdraw(self):\n",
        "    Amount = float(input(\"\\nEnter Amount to Withdraw : \"))\n",
        "    if Amount <= self.Amnt:\n",
        "      self.Amnt -= Amount\n",
        "      print(\"Transaction Successful\")\n",
        "      print(\"Account Balance : \", self.Amnt)\n",
        "    else:\n",
        "      print(\"Insufficient Account Balance\")\n",
        "      print(\"Transaction Failed\")\n",
        "  \n",
        "  def chkBalance(self):\n",
        "    print(\"\\nAccount Balance : \", self.Amnt)\n",
        "\n",
        "acc = Account()\n",
        "acc.AccountDetails()\n",
        "acc.Deposit()\n",
        "acc.Withdraw()\n",
        "acc.chkBalance()"
      ],
      "execution_count": 7,
      "outputs": [
        {
          "output_type": "stream",
          "name": "stdout",
          "text": [
            "Account Number : 9928784617\n",
            "Name : shreeram patidar\n",
            "\n",
            "Account Details :\n",
            "Account Number :  9928784617\n",
            "Account Holder Name :  shreeram patidar\n",
            "Account Balance :  50000.0\n",
            "\n",
            "Enter Amount for Deposit : 20000\n",
            "Account Balance :  70000.0\n",
            "\n",
            "Enter Amount to Withdraw : 70000\n",
            "Transaction Successful\n",
            "Account Balance :  0.0\n",
            "\n",
            "Account Balance :  0.0\n"
          ]
        }
      ]
    },
    {
      "cell_type": "code",
      "metadata": {
        "colab": {
          "base_uri": "https://localhost:8080/"
        },
        "id": "3trdkNOrqlq0",
        "outputId": "8c9a2e7f-28d8-41e1-c2ae-6deeb27bc5f0"
      },
      "source": [
        "##Problem 4\n",
        "\n",
        "class Student:\n",
        "\n",
        "  def __init__(self, Name, USN):\n",
        "    self.Name = Name\n",
        "    self.USN = USN\n",
        "    self.Marks = []\n",
        "\n",
        "  def Input(self):\n",
        "    N = int(input(\"Number of Subjects : \"))\n",
        "    for i in range(N):\n",
        "      self.Marks.append(float(input(\"Marks : \")))\n",
        "  \n",
        "  def Show(self):\n",
        "    print(\"\\nStudent Name : \", self.Name)\n",
        "    print(\"USN : \", self.USN)\n",
        "    for i in range(len(self.Marks)):\n",
        "      print(\"Marks in Subject {0} : {1}\".format(i + 1, self.Marks[i]))\n",
        "\n",
        "Name = str(input(\"Student Name : \"))\n",
        "USN = str(input(\"USN : \"))\n",
        "S = Student(Name, USN)\n",
        "S.Input()\n",
        "S.Show()"
      ],
      "execution_count": 9,
      "outputs": [
        {
          "output_type": "stream",
          "name": "stdout",
          "text": [
            "Student Name : sunil kumar patidar \n",
            "USN : 20bcs131\n",
            "Number of Subjects : 5\n",
            "Marks : 7.3\n",
            "Marks : 7.5\n",
            "Marks : 8.1\n",
            "Marks : 5.5\n",
            "Marks : 9.9\n",
            "\n",
            "Student Name :  sunil kumar patidar \n",
            "USN :  20bcs131\n",
            "Marks in Subject 1 : 7.3\n",
            "Marks in Subject 2 : 7.5\n",
            "Marks in Subject 3 : 8.1\n",
            "Marks in Subject 4 : 5.5\n",
            "Marks in Subject 5 : 9.9\n"
          ]
        }
      ]
    },
    {
      "cell_type": "code",
      "metadata": {
        "colab": {
          "base_uri": "https://localhost:8080/"
        },
        "id": "26iFaIla0JFO",
        "outputId": "c1f822b0-b5f1-4ccd-aca8-ef7bcee321f3"
      },
      "source": [
        "class patient:\n",
        "  def _init_(self,name,admission_date,symptoms,oxygen_level,discharge_date):\n",
        "    self.name = name\n",
        "    self.admission_date = admission_date\n",
        "    self.discharge_date = discharge_date\n",
        "    self.symptoms = symptoms\n",
        "    self.oxygen_level = oxygen_level\n",
        "\n",
        "  def disp_details(self):\n",
        "    print('Name: {}\\nDate of admission: {}'.format(self.name.title(),self.admission_date))\n",
        "    print('Symptoms: ',end=' ')\n",
        "    for symptom in self.symptoms:\n",
        "      print(symptom,end=',')\n",
        "    print('\\nOxygen level: {}\\nDate of Discharge: {}'.format(self.oxygen_level,self.discharge_date))\n",
        "\n",
        "class hospital:\n",
        "  def _init_(self):\n",
        "    self.oxygen_support = []\n",
        "    self.general_ward = []\n",
        "\n",
        "  def take_info(self):\n",
        "    info = input('Enter the information: ')\n",
        "    info_list = info.split(',')\n",
        "    symptoms = [x for x in info_list[2].split(';')]\n",
        "    if int(info_list[3]) < 90:\n",
        "      self.oxygen_support.append(patient(info_list[0], info_list[1], symptoms, int(info_list[3]), info_list[4]))\n",
        "    else:\n",
        "      self.general_ward.append(patient(info_list[0], info_list[1], symptoms, int(info_list[3]), info_list[4]))\n",
        "\n",
        "  def no_of_patients_os(self):\n",
        "    return len(self.oxygen_support)\n",
        "\n",
        "  def no_of_patients_gw(self):\n",
        "    return len(self.general_ward)\n",
        "  \n",
        "  def total_patients(self):\n",
        "    return len(self.general_ward) + len(self.oxygen_support)\n",
        "\n",
        "  def patient_details(self):\n",
        "    i = 1\n",
        "    print('General Ward Patients')\n",
        "    for person in self.general_ward:\n",
        "      print()\n",
        "      print('Patient %d: ' % i)\n",
        "      person.disp_details()\n",
        "      i += 1\n",
        "    print()\n",
        "    i = 1\n",
        "    print('Oxygen Support Patients')\n",
        "    for person in self.oxygen_support:\n",
        "      print()\n",
        "      print('Patient %d: ' % i)\n",
        "      person.disp_details()\n",
        "      i += 1\n",
        "\n",
        "\n",
        "h = hospital()\n",
        "print('Please enter name, admission_date(dd/mm/yyyy),symptoms,oxygen_level,discharge_date respectively and seperate using commas, seperate symptoms using colon')\n",
        "h.take_info()\n",
        "h.take_info()\n",
        "h.take_info()\n",
        "patients_in_hospital = h.total_patients()\n",
        "patients_in_general_ward = h.no_of_patients_gw()\n",
        "patients_on_oxygen_support = h.no_of_patients_os()\n",
        "print('Number of patients in hospital: %d' % patients_in_hospital)\n",
        "print('Number of patients in general ward: %d' % patients_in_general_ward )\n",
        "print('Number of patients on oxygen support: %d' % patients_on_oxygen_support)\n",
        "print()\n",
        "h.patient_details()"
      ],
      "execution_count": null,
      "outputs": [
        {
          "output_type": "stream",
          "name": "stdout",
          "text": [
            "Please enter name, admission_date(dd/mm/yyyy),symptoms,oxygen_level,discharge_date respectively and seperate using commas, seperate symptoms using colon\n"
          ]
        }
      ]
    },
    {
      "cell_type": "code",
      "metadata": {
        "colab": {
          "base_uri": "https://localhost:8080/"
        },
        "id": "DLVxk67QrrJ9",
        "outputId": "6a99b323-bf33-43ca-ae1a-2df016737013"
      },
      "source": [
        "##Problem 6\n",
        "\n",
        "import datetime\n",
        "\n",
        "class Time:\n",
        "  def __init__(self):\n",
        "    self.hours = 0\n",
        "    self.minutes = 0\n",
        "    self.seconds = 0\n",
        "  \n",
        "  def __init__(self):\n",
        "    self.hours = int(datetime.datetime.now().hour)\n",
        "    self.minutes = int(datetime.datetime.now().minute)\n",
        "    self.seconds = int(datetime.datetime.now().second)\n",
        "  \n",
        "  def show(self):\n",
        "    print(\"Time in (hh:mm:ss) format : {0}:{1}:{2}\".format(self.hours, self.minutes, self.seconds))\n",
        "\n",
        "T = Time()\n",
        "T.show()"
      ],
      "execution_count": 12,
      "outputs": [
        {
          "output_type": "stream",
          "name": "stdout",
          "text": [
            "Time in (hh:mm:ss) format : 8:28:1\n"
          ]
        }
      ]
    },
    {
      "cell_type": "code",
      "metadata": {
        "colab": {
          "base_uri": "https://localhost:8080/"
        },
        "id": "xo1vZm7grui-",
        "outputId": "ed6fefa1-537c-4f57-f8b1-12401b62de7a"
      },
      "source": [
        "##Problem 7\n",
        "\n",
        "class Student:\n",
        "  def __init__(self):\n",
        "    self.SData = {}\n",
        "  \n",
        "  def Input(self):\n",
        "    N = int(input(\"Number of Students : \"))\n",
        "    for i in range(N):\n",
        "      Name = str(input(\"Student Name : \"))\n",
        "      Age = int(input(\"Student Age : \"))\n",
        "      RollNo = str(input(\"Student Roll No : \"))\n",
        "      self.SData[i] = {}\n",
        "      self.SData[i][\"Name\"] = Name\n",
        "      self.SData[i][\"Age\"] = Age\n",
        "      self.SData[i][\"Roll No\"] = RollNo\n",
        "  \n",
        "  def Compare(self):\n",
        "    if self.SData[0][\"Age\"] == self.SData[1][\"Age\"]:\n",
        "      print(\"Both Student have equal Age\")\n",
        "    else:\n",
        "      print(\"Both Student have not equal Age\")\n",
        "\n",
        "S = Student()\n",
        "S.Input()\n",
        "S.Compare()"
      ],
      "execution_count": 13,
      "outputs": [
        {
          "output_type": "stream",
          "name": "stdout",
          "text": [
            "Number of Students : 2\n",
            "Student Name : sunil \n",
            "Student Age : 50\n",
            "Student Roll No : 20bcs131\n",
            "Student Name : rohit \n",
            "Student Age : 33\n",
            "Student Roll No : 20bcs132\n",
            "Both Student have not equal Age\n"
          ]
        }
      ]
    },
    {
      "cell_type": "code",
      "metadata": {
        "colab": {
          "base_uri": "https://localhost:8080/"
        },
        "id": "wZ_BDx2Ur9Ei",
        "outputId": "2e03458d-0479-4c51-947a-cba6843d79a8"
      },
      "source": [
        "##Problem 8\n",
        "\n",
        "class Student:\n",
        "  ##Class Variables\n",
        "  sem = 3\n",
        "  Inst = \"IIIT Dharwad\"\n",
        "  \n",
        "  def __init__(self, Name, USN):\n",
        "    ##Instance Variable\n",
        "    self.Name = Name\n",
        "    self.USN = USN\n",
        "  \n",
        "  def Show_1(self):\n",
        "    ##Printing Using Instance Method\n",
        "    print(\"Student Name : \", self.Name)\n",
        "    print(\"Student USN : \", self.USN)\n",
        "\n",
        "  @classmethod\n",
        "  def Show_2(cls):\n",
        "    print(\"Student Semester : \", cls.sem)\n",
        "    print(\"Student Institute : \", cls.Inst)\n",
        "  \n",
        "  @staticmethod\n",
        "  def Exp():\n",
        "    print(\"\\nExplanation About the calss :\\nIn python class is an user defined blueprint from which objects are created\\nThis is Student class to store Student Details.\")\n",
        "\n",
        "s = Student(\"sunil\", \"26\")\n",
        "s.Show_1()\n",
        "Student.Show_2()\n",
        "s.Exp()"
      ],
      "execution_count": 15,
      "outputs": [
        {
          "output_type": "stream",
          "name": "stdout",
          "text": [
            "Student Name :  sunil\n",
            "Student USN :  26\n",
            "Student Semester :  3\n",
            "Student Institute :  IIIT Dharwad\n",
            "\n",
            "Explanation About the calss :\n",
            "In python class is an user defined blueprint from which objects are created\n",
            "This is Student class to store Student Details.\n"
          ]
        }
      ]
    },
    {
      "cell_type": "code",
      "metadata": {
        "colab": {
          "base_uri": "https://localhost:8080/"
        },
        "id": "EAbYGMUesJ1W",
        "outputId": "3f29d12b-a88e-40cb-a470-e0baf892f202"
      },
      "source": [
        "##Problem 9\n",
        "\n",
        "class Student:\n",
        "  def __init__(self):\n",
        "    self.Name = str(input(\"Student Name : \"))\n",
        "    self.RollNo = str(input(\"Student RollNo : \"))\n",
        "    self.Sem = int(input(\"Semester : \"))\n",
        "\n",
        "  def Show(self):\n",
        "    print(\"Student Details\")\n",
        "    print(\"Student Name : \", self.Name)\n",
        "    print(\"Student RollNo : \", self.RollNo)\n",
        "    print(\"Semester : \", self.Sem)\n",
        "\n",
        "  class Laptop:\n",
        "    def __init__(self, CPU, RAM, HDD):\n",
        "      self.CPU = CPU\n",
        "      self.RAM = RAM\n",
        "      self.HDD = HDD\n",
        "    \n",
        "    def Show(self):\n",
        "      print(\"CPU : \", self.CPU)\n",
        "      print(\"RAM : \", self.RAM)\n",
        "      print(\"HDD : \", self.HDD)\n",
        "    \n",
        "  l1 = Laptop(\"Intel\", \"8 GB\", \"512 GB\")\n",
        "  l2 = Laptop(\"Ryzen\", \"16 GB\", \"1 TB\")\n",
        "  l1.Show()\n",
        "  l2.Show()\n",
        "\n",
        "S = Student()\n",
        "S.Show()"
      ],
      "execution_count": 16,
      "outputs": [
        {
          "output_type": "stream",
          "name": "stdout",
          "text": [
            "CPU :  Intel\n",
            "RAM :  8 GB\n",
            "HDD :  512 GB\n",
            "CPU :  Ryzen\n",
            "RAM :  16 GB\n",
            "HDD :  1 TB\n",
            "Student Name : sunil \n",
            "Student RollNo : 20bcs131 \n",
            "Semester : 3\n",
            "Student Details\n",
            "Student Name :  sunil \n",
            "Student RollNo :  20bcs131 \n",
            "Semester :  3\n"
          ]
        }
      ]
    }
  ]
}